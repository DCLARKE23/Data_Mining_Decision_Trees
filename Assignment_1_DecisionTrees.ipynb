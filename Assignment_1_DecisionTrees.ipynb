{
  "cells": [
    {
      "cell_type": "markdown",
      "metadata": {
        "id": "view-in-github",
        "colab_type": "text"
      },
      "source": [
        "<a href=\"https://colab.research.google.com/github/DCLARKE23/Data_Mining_Decision_Trees/blob/main/Assignment_1_DecisionTrees.ipynb\" target=\"_parent\"><img src=\"https://colab.research.google.com/assets/colab-badge.svg\" alt=\"Open In Colab\"/></a>"
      ]
    },
    {
      "cell_type": "markdown",
      "metadata": {
        "id": "ldaKdOjOWCSo"
      },
      "source": [
        "\n",
        "<a id='chap-tparbresdecision'></a>"
      ],
      "id": "ldaKdOjOWCSo"
    },
    {
      "cell_type": "markdown",
      "metadata": {
        "id": "mUSBKjOuWCSq"
      },
      "source": [
        "# Assignment 1 - Decision Trees\n",
        "\n",
        "The objective of this assignment is to demonstrate the implementation of decision trees for classification and regression problems. This document freely reproduces some examples shown in the excellent scikit-learn documentation.\n",
        "\n",
        "Useful external references\n",
        "\n",
        "- [NumPy documentation](https://docs.scipy.org/doc/numpy/user/index.html)  \n",
        "- [SciPy documentation](https://docs.scipy.org/doc/scipy/reference/)  \n",
        "- [MatPlotLib documentation](http://matplotlib.org/)  \n",
        "- [scikit-learn](http://scikit-learn.org/stable/index.html)  \n",
        "- [Python Programming languages](https://www.python.org)  "
      ],
      "id": "mUSBKjOuWCSq"
    },
    {
      "cell_type": "markdown",
      "metadata": {
        "id": "yL2_d3q7WCSu"
      },
      "source": [
        "## Decision trees\n",
        "\n",
        "Decision trees are nonparametric learning methods used for classification and regression problems. The goal is to create a model that predicts the values of the target variable, based on a set of sequences of decision rules inferred from the training data. The tree therefore approximates the target by a succession of if-then-else rules. This paradigm applies to both categorical and numerical data. The more complex the tree generated, the better the model “explains” the learning data but the higher the risk of over-fitting.\n",
        "\n",
        "Decision trees have several advantages that make them interesting in contexts where it is useful to understand the sequence of decisions made by the model:\n",
        "\n",
        "•\tThey are easy to understand and visualize.\n",
        "\n",
        "•\tThey require little data preparation (normalization, etc.).\n",
        "\n",
        "•\tThe cost of using trees is logarithmic.\n",
        "\n",
        "•\tThey can use categorical and numerical data.\n",
        "\n",
        "•\tThey can deal with multi-class problems.\n",
        "\n",
        "•\tWhite box model: the result is easy to conceptualize and visualize.\n",
        "\n",
        "However, these models have two major disadvantages:\n",
        "\n",
        "•\tOver-fitting: sometimes the generated trees are too complex and generalize badly. Choosing good values for the maximum depth (max_depth) and minimum number of samples per leaf (min_samples_leaf) parameters avoids this problem.\n",
        "\n",
        "•\tIt may happen that the generated trees are not balanced, which implies that the travel time is no longer logarithmic. It is therefore recommended to adjust the dataset before construction, to avoid that one class largely dominates the others in terms of the number of training examples\n"
      ],
      "id": "yL2_d3q7WCSu"
    },
    {
      "cell_type": "markdown",
      "metadata": {
        "id": "uths_RpWWCSw"
      },
      "source": [
        "## Trees for classification\n",
        "\n",
        "In scikit-learn, the class [sklearn.tree.DecisionTreeClassifier](http://scikit-learn.org/stable/modules/generated/sklearn.tree.DecisionTreeClassifier.html) allows to perform a multi-class classification using a decision tree.\n",
        "\n",
        "We start by importing the right modules and building the tree object:"
      ],
      "id": "uths_RpWWCSw"
    },
    {
      "cell_type": "code",
      "execution_count": null,
      "metadata": {
        "hide-output": false,
        "colab": {
          "base_uri": "https://localhost:8080/",
          "height": 358
        },
        "id": "-Z1WK6AfWCSx",
        "outputId": "d84306ff-e4bc-4544-c8be-0a0de5b7c53e"
      },
      "outputs": [
        {
          "output_type": "stream",
          "name": "stdout",
          "text": [
            "Requirement already satisfied: scikit-learn in /usr/local/lib/python3.10/dist-packages (1.2.2)\n",
            "Collecting scikit-learn\n",
            "  Downloading scikit_learn-1.4.2-cp310-cp310-manylinux_2_17_x86_64.manylinux2014_x86_64.whl (12.1 MB)\n",
            "\u001b[2K     \u001b[90m━━━━━━━━━━━━━━━━━━━━━━━━━━━━━━━━━━━━━━━━\u001b[0m \u001b[32m12.1/12.1 MB\u001b[0m \u001b[31m38.6 MB/s\u001b[0m eta \u001b[36m0:00:00\u001b[0m\n",
            "\u001b[?25hRequirement already satisfied: numpy>=1.19.5 in /usr/local/lib/python3.10/dist-packages (from scikit-learn) (1.25.2)\n",
            "Requirement already satisfied: scipy>=1.6.0 in /usr/local/lib/python3.10/dist-packages (from scikit-learn) (1.11.4)\n",
            "Requirement already satisfied: joblib>=1.2.0 in /usr/local/lib/python3.10/dist-packages (from scikit-learn) (1.4.2)\n",
            "Requirement already satisfied: threadpoolctl>=2.0.0 in /usr/local/lib/python3.10/dist-packages (from scikit-learn) (3.5.0)\n",
            "Installing collected packages: scikit-learn\n",
            "  Attempting uninstall: scikit-learn\n",
            "    Found existing installation: scikit-learn 1.2.2\n",
            "    Uninstalling scikit-learn-1.2.2:\n",
            "      Successfully uninstalled scikit-learn-1.2.2\n",
            "Successfully installed scikit-learn-1.4.2\n"
          ]
        },
        {
          "output_type": "display_data",
          "data": {
            "application/vnd.colab-display-data+json": {
              "pip_warning": {
                "packages": [
                  "sklearn"
                ]
              },
              "id": "2e0255c1d03d4b37b9c22cea7a5edeb6"
            }
          },
          "metadata": {}
        }
      ],
      "source": [
        "# To install the last version of sklearn\n",
        "!pip install -U scikit-learn"
      ],
      "id": "-Z1WK6AfWCSx"
    },
    {
      "cell_type": "code",
      "execution_count": 1,
      "metadata": {
        "hide-output": false,
        "id": "bdCsfh7TWCS2"
      },
      "outputs": [],
      "source": [
        "from sklearn import tree\n",
        "clf = tree.DecisionTreeClassifier()"
      ],
      "id": "bdCsfh7TWCS2"
    },
    {
      "cell_type": "markdown",
      "metadata": {
        "id": "ojE6Hm7gWCS7"
      },
      "source": [
        "For the example, we can define a minimalist dataset (two points, each in a class):"
      ],
      "id": "ojE6Hm7gWCS7"
    },
    {
      "cell_type": "code",
      "execution_count": 2,
      "metadata": {
        "hide-output": false,
        "id": "Orn9FgBJWCS8"
      },
      "outputs": [],
      "source": [
        "X = [[0, 0], [1, 1]]\n",
        "y = [0, 1]"
      ],
      "id": "Orn9FgBJWCS8"
    },
    {
      "cell_type": "markdown",
      "metadata": {
        "id": "8tlw0rPbWCS_"
      },
      "source": [
        "The tree is built using the `.fit(X, y)` method:"
      ],
      "id": "8tlw0rPbWCS_"
    },
    {
      "cell_type": "code",
      "execution_count": 3,
      "metadata": {
        "hide-output": false,
        "id": "W5kCKEepWCTC"
      },
      "outputs": [],
      "source": [
        "clf = clf.fit(X, y)"
      ],
      "id": "W5kCKEepWCTC"
    },
    {
      "cell_type": "markdown",
      "metadata": {
        "id": "tw8nDqkVWCTE"
      },
      "source": [
        "Prediction on new samples is done in the usual way with `.predict(X)` :"
      ],
      "id": "tw8nDqkVWCTE"
    },
    {
      "cell_type": "code",
      "execution_count": 4,
      "metadata": {
        "hide-output": false,
        "id": "fAeqHaucWCTF",
        "colab": {
          "base_uri": "https://localhost:8080/"
        },
        "outputId": "03af7377-2944-41ee-88ec-aaed808a2b35"
      },
      "outputs": [
        {
          "output_type": "execute_result",
          "data": {
            "text/plain": [
              "array([1])"
            ]
          },
          "metadata": {},
          "execution_count": 4
        }
      ],
      "source": [
        "clf.predict([[2., 2.]])"
      ],
      "id": "fAeqHaucWCTF"
    },
    {
      "cell_type": "markdown",
      "metadata": {
        "id": "SsZCqoZtWCTH"
      },
      "source": [
        "One can also predict the probability of each class for a sample:"
      ],
      "id": "SsZCqoZtWCTH"
    },
    {
      "cell_type": "code",
      "execution_count": 5,
      "metadata": {
        "hide-output": false,
        "id": "phAkuF4nWCTJ",
        "colab": {
          "base_uri": "https://localhost:8080/"
        },
        "outputId": "611be00f-06fb-4d47-af78-9c7211b9ecef"
      },
      "outputs": [
        {
          "output_type": "execute_result",
          "data": {
            "text/plain": [
              "array([[0., 1.]])"
            ]
          },
          "metadata": {},
          "execution_count": 5
        }
      ],
      "source": [
        "clf.predict_proba([[2., 2.]])"
      ],
      "id": "phAkuF4nWCTJ"
    },
    {
      "cell_type": "markdown",
      "metadata": {
        "id": "ABMsUBOrWCTK"
      },
      "source": [
        "## Classification of Iris data\n",
        "\n",
        "`DecisionTreeClassifier` is able to handle multi-class classification problems (eg with labels 0, 1, … K-1). In this example we will work with the [Iris](https://archive.ics.uci.edu/ml/datasets/Iris) dataset, , easily accessible in `sklearn`. This dataset contains 150 instances of iris (a type of plant, each observation describes its morphology). The objective is to classify each instance into one of three categories: *Iris setosa*, *Iris virginica* or *Iris versicolor*.\n",
        "\n",
        "One of the classes is linearly separable with respect to the other two, but the other two are not separable with respect to each other.\n",
        "\n",
        "\n",
        "<dl style='margin: 20px 0;'>\n",
        "<dt>The attributes of the dataset are:</dt>\n",
        "<dd>\n",
        "- sepal length,  \n",
        "- sepal width,  \n",
        "- petal length,  \n",
        "- petal width,\n",
        "- class: Iris Setosa, Iris Versicolor or Iris Virginica.\n",
        "\n",
        "\n",
        "</dd>\n",
        "\n",
        "</dl>\n",
        "\n",
        "The Iris dataset being very common, scikit-learn offers a native function to load it into memory:"
      ],
      "id": "ABMsUBOrWCTK"
    },
    {
      "cell_type": "code",
      "execution_count": 6,
      "metadata": {
        "hide-output": false,
        "id": "BEMw7BIlWCTL"
      },
      "outputs": [],
      "source": [
        "from sklearn.datasets import load_iris\n",
        "\n",
        "iris = load_iris()\n",
        "X, y = iris.data, iris.target"
      ],
      "id": "BEMw7BIlWCTL"
    },
    {
      "cell_type": "markdown",
      "metadata": {
        "id": "X0g7ZmVEWCTM"
      },
      "source": [
        "## Question 1\n",
        "\n",
        "Calculate the statistics (mean and standard deviation) of the four explanatory variables: sepal length, sepal width, petal length and petal width."
      ],
      "id": "X0g7ZmVEWCTM"
    },
    {
      "cell_type": "code",
      "source": [
        "import numpy as np\n",
        "print(\"Standard Deviations\")\n",
        "print(np.std(iris.data[:, 0]))  # Sepal Length\n",
        "print(np.std(iris.data[:, 1]))  # Sepal Width\n",
        "print(np.std(iris.data[:, 2]))  # Petal Length\n",
        "print(np.std(iris.data[:, 3]))  # Petal Width\n",
        "print(\"\")\n",
        "print(\"Means\")\n",
        "print(np.mean(iris.data[:, 0]))  # Sepal Length\n",
        "print(np.mean(iris.data[:, 1]))  # Sepal Width\n",
        "print(np.mean(iris.data[:, 2]))  # Petal Length\n",
        "print(np.mean(iris.data[:, 3]))  # Petal Width\n"
      ],
      "metadata": {
        "id": "bR4rR3K8WXmk",
        "colab": {
          "base_uri": "https://localhost:8080/"
        },
        "outputId": "0cdd8fac-4895-4226-efc3-bd1acb013d57"
      },
      "id": "bR4rR3K8WXmk",
      "execution_count": 13,
      "outputs": [
        {
          "output_type": "stream",
          "name": "stdout",
          "text": [
            "Standard Deviations\n",
            "0.8253012917851409\n",
            "0.4344109677354946\n",
            "1.759404065775303\n",
            "0.7596926279021594\n",
            "\n",
            "Means\n",
            "5.843333333333334\n",
            "3.0573333333333337\n",
            "3.7580000000000005\n",
            "1.1993333333333336\n"
          ]
        }
      ]
    },
    {
      "cell_type": "markdown",
      "metadata": {
        "id": "o9S45SZdWCTN"
      },
      "source": [
        "## Question 2\n",
        "\n",
        "How many examples of each class are there?"
      ],
      "id": "o9S45SZdWCTN"
    },
    {
      "cell_type": "code",
      "source": [
        "target = iris.target\n",
        "print(np.unique(target, return_counts=True))"
      ],
      "metadata": {
        "colab": {
          "base_uri": "https://localhost:8080/"
        },
        "id": "nztTsz54dg5Z",
        "outputId": "c53c2568-2d63-4552-ead8-288a34d02e9d"
      },
      "id": "nztTsz54dg5Z",
      "execution_count": 24,
      "outputs": [
        {
          "output_type": "stream",
          "name": "stdout",
          "text": [
            "(array([0, 1, 2]), array([50, 50, 50]))\n"
          ]
        }
      ]
    },
    {
      "cell_type": "markdown",
      "source": [
        "There are 50 of each  of the 3 types of iris flower: setosa, virginica and versicolor"
      ],
      "metadata": {
        "id": "4XyHu-d7eIgB"
      },
      "id": "4XyHu-d7eIgB"
    },
    {
      "cell_type": "markdown",
      "metadata": {
        "id": "BtldBpHKWCTO"
      },
      "source": [
        "Before building the model, let's split the dataset into two: 70% for training, 30% for testing."
      ],
      "id": "BtldBpHKWCTO"
    },
    {
      "cell_type": "code",
      "execution_count": 22,
      "metadata": {
        "hide-output": false,
        "id": "Z6_8PWDKWCTP"
      },
      "outputs": [],
      "source": [
        "from sklearn.model_selection import train_test_split\n",
        "X_train, X_test, y_train, y_test = train_test_split(X, y, train_size=0.7, random_state=0)"
      ],
      "id": "Z6_8PWDKWCTP"
    },
    {
      "cell_type": "markdown",
      "metadata": {
        "id": "az9hzWjkWCTQ"
      },
      "source": [
        "We can now build a decision tree on this data:"
      ],
      "id": "az9hzWjkWCTQ"
    },
    {
      "cell_type": "code",
      "execution_count": 23,
      "metadata": {
        "hide-output": false,
        "id": "M-utgtKfWCTR",
        "colab": {
          "base_uri": "https://localhost:8080/",
          "height": 80
        },
        "outputId": "34e5d031-6973-406e-8620-ce25f19c9b4e"
      },
      "outputs": [
        {
          "output_type": "execute_result",
          "data": {
            "text/plain": [
              "DecisionTreeClassifier()"
            ],
            "text/html": [
              "<style>#sk-container-id-2 {\n",
              "  /* Definition of color scheme common for light and dark mode */\n",
              "  --sklearn-color-text: black;\n",
              "  --sklearn-color-line: gray;\n",
              "  /* Definition of color scheme for unfitted estimators */\n",
              "  --sklearn-color-unfitted-level-0: #fff5e6;\n",
              "  --sklearn-color-unfitted-level-1: #f6e4d2;\n",
              "  --sklearn-color-unfitted-level-2: #ffe0b3;\n",
              "  --sklearn-color-unfitted-level-3: chocolate;\n",
              "  /* Definition of color scheme for fitted estimators */\n",
              "  --sklearn-color-fitted-level-0: #f0f8ff;\n",
              "  --sklearn-color-fitted-level-1: #d4ebff;\n",
              "  --sklearn-color-fitted-level-2: #b3dbfd;\n",
              "  --sklearn-color-fitted-level-3: cornflowerblue;\n",
              "\n",
              "  /* Specific color for light theme */\n",
              "  --sklearn-color-text-on-default-background: var(--sg-text-color, var(--theme-code-foreground, var(--jp-content-font-color1, black)));\n",
              "  --sklearn-color-background: var(--sg-background-color, var(--theme-background, var(--jp-layout-color0, white)));\n",
              "  --sklearn-color-border-box: var(--sg-text-color, var(--theme-code-foreground, var(--jp-content-font-color1, black)));\n",
              "  --sklearn-color-icon: #696969;\n",
              "\n",
              "  @media (prefers-color-scheme: dark) {\n",
              "    /* Redefinition of color scheme for dark theme */\n",
              "    --sklearn-color-text-on-default-background: var(--sg-text-color, var(--theme-code-foreground, var(--jp-content-font-color1, white)));\n",
              "    --sklearn-color-background: var(--sg-background-color, var(--theme-background, var(--jp-layout-color0, #111)));\n",
              "    --sklearn-color-border-box: var(--sg-text-color, var(--theme-code-foreground, var(--jp-content-font-color1, white)));\n",
              "    --sklearn-color-icon: #878787;\n",
              "  }\n",
              "}\n",
              "\n",
              "#sk-container-id-2 {\n",
              "  color: var(--sklearn-color-text);\n",
              "}\n",
              "\n",
              "#sk-container-id-2 pre {\n",
              "  padding: 0;\n",
              "}\n",
              "\n",
              "#sk-container-id-2 input.sk-hidden--visually {\n",
              "  border: 0;\n",
              "  clip: rect(1px 1px 1px 1px);\n",
              "  clip: rect(1px, 1px, 1px, 1px);\n",
              "  height: 1px;\n",
              "  margin: -1px;\n",
              "  overflow: hidden;\n",
              "  padding: 0;\n",
              "  position: absolute;\n",
              "  width: 1px;\n",
              "}\n",
              "\n",
              "#sk-container-id-2 div.sk-dashed-wrapped {\n",
              "  border: 1px dashed var(--sklearn-color-line);\n",
              "  margin: 0 0.4em 0.5em 0.4em;\n",
              "  box-sizing: border-box;\n",
              "  padding-bottom: 0.4em;\n",
              "  background-color: var(--sklearn-color-background);\n",
              "}\n",
              "\n",
              "#sk-container-id-2 div.sk-container {\n",
              "  /* jupyter's `normalize.less` sets `[hidden] { display: none; }`\n",
              "     but bootstrap.min.css set `[hidden] { display: none !important; }`\n",
              "     so we also need the `!important` here to be able to override the\n",
              "     default hidden behavior on the sphinx rendered scikit-learn.org.\n",
              "     See: https://github.com/scikit-learn/scikit-learn/issues/21755 */\n",
              "  display: inline-block !important;\n",
              "  position: relative;\n",
              "}\n",
              "\n",
              "#sk-container-id-2 div.sk-text-repr-fallback {\n",
              "  display: none;\n",
              "}\n",
              "\n",
              "div.sk-parallel-item,\n",
              "div.sk-serial,\n",
              "div.sk-item {\n",
              "  /* draw centered vertical line to link estimators */\n",
              "  background-image: linear-gradient(var(--sklearn-color-text-on-default-background), var(--sklearn-color-text-on-default-background));\n",
              "  background-size: 2px 100%;\n",
              "  background-repeat: no-repeat;\n",
              "  background-position: center center;\n",
              "}\n",
              "\n",
              "/* Parallel-specific style estimator block */\n",
              "\n",
              "#sk-container-id-2 div.sk-parallel-item::after {\n",
              "  content: \"\";\n",
              "  width: 100%;\n",
              "  border-bottom: 2px solid var(--sklearn-color-text-on-default-background);\n",
              "  flex-grow: 1;\n",
              "}\n",
              "\n",
              "#sk-container-id-2 div.sk-parallel {\n",
              "  display: flex;\n",
              "  align-items: stretch;\n",
              "  justify-content: center;\n",
              "  background-color: var(--sklearn-color-background);\n",
              "  position: relative;\n",
              "}\n",
              "\n",
              "#sk-container-id-2 div.sk-parallel-item {\n",
              "  display: flex;\n",
              "  flex-direction: column;\n",
              "}\n",
              "\n",
              "#sk-container-id-2 div.sk-parallel-item:first-child::after {\n",
              "  align-self: flex-end;\n",
              "  width: 50%;\n",
              "}\n",
              "\n",
              "#sk-container-id-2 div.sk-parallel-item:last-child::after {\n",
              "  align-self: flex-start;\n",
              "  width: 50%;\n",
              "}\n",
              "\n",
              "#sk-container-id-2 div.sk-parallel-item:only-child::after {\n",
              "  width: 0;\n",
              "}\n",
              "\n",
              "/* Serial-specific style estimator block */\n",
              "\n",
              "#sk-container-id-2 div.sk-serial {\n",
              "  display: flex;\n",
              "  flex-direction: column;\n",
              "  align-items: center;\n",
              "  background-color: var(--sklearn-color-background);\n",
              "  padding-right: 1em;\n",
              "  padding-left: 1em;\n",
              "}\n",
              "\n",
              "\n",
              "/* Toggleable style: style used for estimator/Pipeline/ColumnTransformer box that is\n",
              "clickable and can be expanded/collapsed.\n",
              "- Pipeline and ColumnTransformer use this feature and define the default style\n",
              "- Estimators will overwrite some part of the style using the `sk-estimator` class\n",
              "*/\n",
              "\n",
              "/* Pipeline and ColumnTransformer style (default) */\n",
              "\n",
              "#sk-container-id-2 div.sk-toggleable {\n",
              "  /* Default theme specific background. It is overwritten whether we have a\n",
              "  specific estimator or a Pipeline/ColumnTransformer */\n",
              "  background-color: var(--sklearn-color-background);\n",
              "}\n",
              "\n",
              "/* Toggleable label */\n",
              "#sk-container-id-2 label.sk-toggleable__label {\n",
              "  cursor: pointer;\n",
              "  display: block;\n",
              "  width: 100%;\n",
              "  margin-bottom: 0;\n",
              "  padding: 0.5em;\n",
              "  box-sizing: border-box;\n",
              "  text-align: center;\n",
              "}\n",
              "\n",
              "#sk-container-id-2 label.sk-toggleable__label-arrow:before {\n",
              "  /* Arrow on the left of the label */\n",
              "  content: \"▸\";\n",
              "  float: left;\n",
              "  margin-right: 0.25em;\n",
              "  color: var(--sklearn-color-icon);\n",
              "}\n",
              "\n",
              "#sk-container-id-2 label.sk-toggleable__label-arrow:hover:before {\n",
              "  color: var(--sklearn-color-text);\n",
              "}\n",
              "\n",
              "/* Toggleable content - dropdown */\n",
              "\n",
              "#sk-container-id-2 div.sk-toggleable__content {\n",
              "  max-height: 0;\n",
              "  max-width: 0;\n",
              "  overflow: hidden;\n",
              "  text-align: left;\n",
              "  /* unfitted */\n",
              "  background-color: var(--sklearn-color-unfitted-level-0);\n",
              "}\n",
              "\n",
              "#sk-container-id-2 div.sk-toggleable__content.fitted {\n",
              "  /* fitted */\n",
              "  background-color: var(--sklearn-color-fitted-level-0);\n",
              "}\n",
              "\n",
              "#sk-container-id-2 div.sk-toggleable__content pre {\n",
              "  margin: 0.2em;\n",
              "  border-radius: 0.25em;\n",
              "  color: var(--sklearn-color-text);\n",
              "  /* unfitted */\n",
              "  background-color: var(--sklearn-color-unfitted-level-0);\n",
              "}\n",
              "\n",
              "#sk-container-id-2 div.sk-toggleable__content.fitted pre {\n",
              "  /* unfitted */\n",
              "  background-color: var(--sklearn-color-fitted-level-0);\n",
              "}\n",
              "\n",
              "#sk-container-id-2 input.sk-toggleable__control:checked~div.sk-toggleable__content {\n",
              "  /* Expand drop-down */\n",
              "  max-height: 200px;\n",
              "  max-width: 100%;\n",
              "  overflow: auto;\n",
              "}\n",
              "\n",
              "#sk-container-id-2 input.sk-toggleable__control:checked~label.sk-toggleable__label-arrow:before {\n",
              "  content: \"▾\";\n",
              "}\n",
              "\n",
              "/* Pipeline/ColumnTransformer-specific style */\n",
              "\n",
              "#sk-container-id-2 div.sk-label input.sk-toggleable__control:checked~label.sk-toggleable__label {\n",
              "  color: var(--sklearn-color-text);\n",
              "  background-color: var(--sklearn-color-unfitted-level-2);\n",
              "}\n",
              "\n",
              "#sk-container-id-2 div.sk-label.fitted input.sk-toggleable__control:checked~label.sk-toggleable__label {\n",
              "  background-color: var(--sklearn-color-fitted-level-2);\n",
              "}\n",
              "\n",
              "/* Estimator-specific style */\n",
              "\n",
              "/* Colorize estimator box */\n",
              "#sk-container-id-2 div.sk-estimator input.sk-toggleable__control:checked~label.sk-toggleable__label {\n",
              "  /* unfitted */\n",
              "  background-color: var(--sklearn-color-unfitted-level-2);\n",
              "}\n",
              "\n",
              "#sk-container-id-2 div.sk-estimator.fitted input.sk-toggleable__control:checked~label.sk-toggleable__label {\n",
              "  /* fitted */\n",
              "  background-color: var(--sklearn-color-fitted-level-2);\n",
              "}\n",
              "\n",
              "#sk-container-id-2 div.sk-label label.sk-toggleable__label,\n",
              "#sk-container-id-2 div.sk-label label {\n",
              "  /* The background is the default theme color */\n",
              "  color: var(--sklearn-color-text-on-default-background);\n",
              "}\n",
              "\n",
              "/* On hover, darken the color of the background */\n",
              "#sk-container-id-2 div.sk-label:hover label.sk-toggleable__label {\n",
              "  color: var(--sklearn-color-text);\n",
              "  background-color: var(--sklearn-color-unfitted-level-2);\n",
              "}\n",
              "\n",
              "/* Label box, darken color on hover, fitted */\n",
              "#sk-container-id-2 div.sk-label.fitted:hover label.sk-toggleable__label.fitted {\n",
              "  color: var(--sklearn-color-text);\n",
              "  background-color: var(--sklearn-color-fitted-level-2);\n",
              "}\n",
              "\n",
              "/* Estimator label */\n",
              "\n",
              "#sk-container-id-2 div.sk-label label {\n",
              "  font-family: monospace;\n",
              "  font-weight: bold;\n",
              "  display: inline-block;\n",
              "  line-height: 1.2em;\n",
              "}\n",
              "\n",
              "#sk-container-id-2 div.sk-label-container {\n",
              "  text-align: center;\n",
              "}\n",
              "\n",
              "/* Estimator-specific */\n",
              "#sk-container-id-2 div.sk-estimator {\n",
              "  font-family: monospace;\n",
              "  border: 1px dotted var(--sklearn-color-border-box);\n",
              "  border-radius: 0.25em;\n",
              "  box-sizing: border-box;\n",
              "  margin-bottom: 0.5em;\n",
              "  /* unfitted */\n",
              "  background-color: var(--sklearn-color-unfitted-level-0);\n",
              "}\n",
              "\n",
              "#sk-container-id-2 div.sk-estimator.fitted {\n",
              "  /* fitted */\n",
              "  background-color: var(--sklearn-color-fitted-level-0);\n",
              "}\n",
              "\n",
              "/* on hover */\n",
              "#sk-container-id-2 div.sk-estimator:hover {\n",
              "  /* unfitted */\n",
              "  background-color: var(--sklearn-color-unfitted-level-2);\n",
              "}\n",
              "\n",
              "#sk-container-id-2 div.sk-estimator.fitted:hover {\n",
              "  /* fitted */\n",
              "  background-color: var(--sklearn-color-fitted-level-2);\n",
              "}\n",
              "\n",
              "/* Specification for estimator info (e.g. \"i\" and \"?\") */\n",
              "\n",
              "/* Common style for \"i\" and \"?\" */\n",
              "\n",
              ".sk-estimator-doc-link,\n",
              "a:link.sk-estimator-doc-link,\n",
              "a:visited.sk-estimator-doc-link {\n",
              "  float: right;\n",
              "  font-size: smaller;\n",
              "  line-height: 1em;\n",
              "  font-family: monospace;\n",
              "  background-color: var(--sklearn-color-background);\n",
              "  border-radius: 1em;\n",
              "  height: 1em;\n",
              "  width: 1em;\n",
              "  text-decoration: none !important;\n",
              "  margin-left: 1ex;\n",
              "  /* unfitted */\n",
              "  border: var(--sklearn-color-unfitted-level-1) 1pt solid;\n",
              "  color: var(--sklearn-color-unfitted-level-1);\n",
              "}\n",
              "\n",
              ".sk-estimator-doc-link.fitted,\n",
              "a:link.sk-estimator-doc-link.fitted,\n",
              "a:visited.sk-estimator-doc-link.fitted {\n",
              "  /* fitted */\n",
              "  border: var(--sklearn-color-fitted-level-1) 1pt solid;\n",
              "  color: var(--sklearn-color-fitted-level-1);\n",
              "}\n",
              "\n",
              "/* On hover */\n",
              "div.sk-estimator:hover .sk-estimator-doc-link:hover,\n",
              ".sk-estimator-doc-link:hover,\n",
              "div.sk-label-container:hover .sk-estimator-doc-link:hover,\n",
              ".sk-estimator-doc-link:hover {\n",
              "  /* unfitted */\n",
              "  background-color: var(--sklearn-color-unfitted-level-3);\n",
              "  color: var(--sklearn-color-background);\n",
              "  text-decoration: none;\n",
              "}\n",
              "\n",
              "div.sk-estimator.fitted:hover .sk-estimator-doc-link.fitted:hover,\n",
              ".sk-estimator-doc-link.fitted:hover,\n",
              "div.sk-label-container:hover .sk-estimator-doc-link.fitted:hover,\n",
              ".sk-estimator-doc-link.fitted:hover {\n",
              "  /* fitted */\n",
              "  background-color: var(--sklearn-color-fitted-level-3);\n",
              "  color: var(--sklearn-color-background);\n",
              "  text-decoration: none;\n",
              "}\n",
              "\n",
              "/* Span, style for the box shown on hovering the info icon */\n",
              ".sk-estimator-doc-link span {\n",
              "  display: none;\n",
              "  z-index: 9999;\n",
              "  position: relative;\n",
              "  font-weight: normal;\n",
              "  right: .2ex;\n",
              "  padding: .5ex;\n",
              "  margin: .5ex;\n",
              "  width: min-content;\n",
              "  min-width: 20ex;\n",
              "  max-width: 50ex;\n",
              "  color: var(--sklearn-color-text);\n",
              "  box-shadow: 2pt 2pt 4pt #999;\n",
              "  /* unfitted */\n",
              "  background: var(--sklearn-color-unfitted-level-0);\n",
              "  border: .5pt solid var(--sklearn-color-unfitted-level-3);\n",
              "}\n",
              "\n",
              ".sk-estimator-doc-link.fitted span {\n",
              "  /* fitted */\n",
              "  background: var(--sklearn-color-fitted-level-0);\n",
              "  border: var(--sklearn-color-fitted-level-3);\n",
              "}\n",
              "\n",
              ".sk-estimator-doc-link:hover span {\n",
              "  display: block;\n",
              "}\n",
              "\n",
              "/* \"?\"-specific style due to the `<a>` HTML tag */\n",
              "\n",
              "#sk-container-id-2 a.estimator_doc_link {\n",
              "  float: right;\n",
              "  font-size: 1rem;\n",
              "  line-height: 1em;\n",
              "  font-family: monospace;\n",
              "  background-color: var(--sklearn-color-background);\n",
              "  border-radius: 1rem;\n",
              "  height: 1rem;\n",
              "  width: 1rem;\n",
              "  text-decoration: none;\n",
              "  /* unfitted */\n",
              "  color: var(--sklearn-color-unfitted-level-1);\n",
              "  border: var(--sklearn-color-unfitted-level-1) 1pt solid;\n",
              "}\n",
              "\n",
              "#sk-container-id-2 a.estimator_doc_link.fitted {\n",
              "  /* fitted */\n",
              "  border: var(--sklearn-color-fitted-level-1) 1pt solid;\n",
              "  color: var(--sklearn-color-fitted-level-1);\n",
              "}\n",
              "\n",
              "/* On hover */\n",
              "#sk-container-id-2 a.estimator_doc_link:hover {\n",
              "  /* unfitted */\n",
              "  background-color: var(--sklearn-color-unfitted-level-3);\n",
              "  color: var(--sklearn-color-background);\n",
              "  text-decoration: none;\n",
              "}\n",
              "\n",
              "#sk-container-id-2 a.estimator_doc_link.fitted:hover {\n",
              "  /* fitted */\n",
              "  background-color: var(--sklearn-color-fitted-level-3);\n",
              "}\n",
              "</style><div id=\"sk-container-id-2\" class=\"sk-top-container\"><div class=\"sk-text-repr-fallback\"><pre>DecisionTreeClassifier()</pre><b>In a Jupyter environment, please rerun this cell to show the HTML representation or trust the notebook. <br />On GitHub, the HTML representation is unable to render, please try loading this page with nbviewer.org.</b></div><div class=\"sk-container\" hidden><div class=\"sk-item\"><div class=\"sk-estimator fitted sk-toggleable\"><input class=\"sk-toggleable__control sk-hidden--visually\" id=\"sk-estimator-id-2\" type=\"checkbox\" checked><label for=\"sk-estimator-id-2\" class=\"sk-toggleable__label fitted sk-toggleable__label-arrow fitted\">&nbsp;&nbsp;DecisionTreeClassifier<a class=\"sk-estimator-doc-link fitted\" rel=\"noreferrer\" target=\"_blank\" href=\"https://scikit-learn.org/1.4/modules/generated/sklearn.tree.DecisionTreeClassifier.html\">?<span>Documentation for DecisionTreeClassifier</span></a><span class=\"sk-estimator-doc-link fitted\">i<span>Fitted</span></span></label><div class=\"sk-toggleable__content fitted\"><pre>DecisionTreeClassifier()</pre></div> </div></div></div></div>"
            ]
          },
          "metadata": {},
          "execution_count": 23
        }
      ],
      "source": [
        "from sklearn import tree\n",
        "clf = tree.DecisionTreeClassifier()\n",
        "clf.fit(X_train, y_train)"
      ],
      "id": "M-utgtKfWCTR"
    },
    {
      "cell_type": "markdown",
      "metadata": {
        "id": "Mbg0DrWiWCTS"
      },
      "source": [
        "Once the training is finished, we can visualize the tree, either with  `matplotlib` using the `plot_tree` method, or with the  `graphviz` tool (dot command). For example, with  `matplotlib`:"
      ],
      "id": "Mbg0DrWiWCTS"
    },
    {
      "cell_type": "code",
      "execution_count": 16,
      "metadata": {
        "hide-output": false,
        "id": "XUas-hFtWCTT",
        "colab": {
          "base_uri": "https://localhost:8080/",
          "height": 632
        },
        "outputId": "5cb7060c-8030-48cd-a459-0b6193a70896"
      },
      "outputs": [
        {
          "output_type": "execute_result",
          "data": {
            "text/plain": [
              "[Text(0.4, 0.9, 'x[3] <= 0.75\\ngini = 0.664\\nsamples = 105\\nvalue = [34, 32, 39]'),\n",
              " Text(0.3, 0.7, 'gini = 0.0\\nsamples = 34\\nvalue = [34, 0, 0]'),\n",
              " Text(0.5, 0.7, 'x[2] <= 4.95\\ngini = 0.495\\nsamples = 71\\nvalue = [0, 32, 39]'),\n",
              " Text(0.2, 0.5, 'x[3] <= 1.65\\ngini = 0.161\\nsamples = 34\\nvalue = [0, 31, 3]'),\n",
              " Text(0.1, 0.3, 'gini = 0.0\\nsamples = 30\\nvalue = [0, 30, 0]'),\n",
              " Text(0.3, 0.3, 'x[1] <= 3.1\\ngini = 0.375\\nsamples = 4\\nvalue = [0, 1, 3]'),\n",
              " Text(0.2, 0.1, 'gini = 0.0\\nsamples = 3\\nvalue = [0, 0, 3]'),\n",
              " Text(0.4, 0.1, 'gini = 0.0\\nsamples = 1\\nvalue = [0, 1, 0]'),\n",
              " Text(0.8, 0.5, 'x[3] <= 1.75\\ngini = 0.053\\nsamples = 37\\nvalue = [0, 1, 36]'),\n",
              " Text(0.7, 0.3, 'x[3] <= 1.65\\ngini = 0.375\\nsamples = 4\\nvalue = [0, 1, 3]'),\n",
              " Text(0.6, 0.1, 'gini = 0.0\\nsamples = 3\\nvalue = [0, 0, 3]'),\n",
              " Text(0.8, 0.1, 'gini = 0.0\\nsamples = 1\\nvalue = [0, 1, 0]'),\n",
              " Text(0.9, 0.3, 'gini = 0.0\\nsamples = 33\\nvalue = [0, 0, 33]')]"
            ]
          },
          "metadata": {},
          "execution_count": 16
        },
        {
          "output_type": "display_data",
          "data": {
            "text/plain": [
              "<Figure size 640x480 with 1 Axes>"
            ],
            "image/png": "[encoded data removed]"
          },
          "metadata": {}
        }
      ],
      "source": [
        "tree.plot_tree(clf, filled=True)"
      ],
      "id": "XUas-hFtWCTT"
    },
    {
      "cell_type": "markdown",
      "metadata": {
        "id": "ksKSgXClWCTT"
      },
      "source": [
        "Alternatively, it is possible to export by producing a `.dot` file which is the default format of `graphviz`:"
      ],
      "id": "ksKSgXClWCTT"
    },
    {
      "cell_type": "code",
      "execution_count": 17,
      "metadata": {
        "hide-output": false,
        "id": "h0KgdW3HWCTT"
      },
      "outputs": [],
      "source": [
        "# Export the graph to the iris.dot file\n",
        "with open(\"iris.dot\", 'w') as f:\n",
        "    f = tree.export_graphviz(clf, out_file=f, filled=True)"
      ],
      "id": "h0KgdW3HWCTT"
    },
    {
      "cell_type": "markdown",
      "metadata": {
        "id": "1S8NSStZWCTU"
      },
      "source": [
        "Then, on the command line, it is possible to convert this file into many formats, for example into PDF (shell command):"
      ],
      "id": "1S8NSStZWCTU"
    },
    {
      "cell_type": "markdown",
      "metadata": {
        "id": "d3pFVxkRWCTV"
      },
      "source": [
        "## Note\n",
        "\n",
        "Currently, this command does not work on CNAM's JupyterHub because dot is not installed."
      ],
      "id": "d3pFVxkRWCTV"
    },
    {
      "cell_type": "code",
      "execution_count": 20,
      "metadata": {
        "hide-output": false,
        "id": "36qhfxIxWCTV"
      },
      "outputs": [],
      "source": [
        "%%bash\n",
        "dot -Tpdf iris.dot -o iris.pdf"
      ],
      "id": "36qhfxIxWCTV"
    },
    {
      "cell_type": "markdown",
      "metadata": {
        "id": "qkzugAYHWCTW"
      },
      "source": [
        "The generated image should look like this:\n",
        "\n",
        " <img src=\"https://scikit-learn.org/stable/_images/iris.png\" style=\"width:100%;\">\n",
        "\n",
        "\n",
        "Once the model is built, it is possible to use it for prediction on new data:"
      ],
      "id": "qkzugAYHWCTW"
    },
    {
      "cell_type": "code",
      "execution_count": 18,
      "metadata": {
        "hide-output": false,
        "id": "Yg20yr9FWCTW",
        "colab": {
          "base_uri": "https://localhost:8080/"
        },
        "outputId": "5506fcd5-8f7c-4c4a-969a-24af1d0e865b"
      },
      "outputs": [
        {
          "output_type": "execute_result",
          "data": {
            "text/plain": [
              "array([2, 1, 0, 2, 0, 2, 0, 1, 1, 1, 2, 1, 1, 1, 1, 0, 1, 1, 0, 0, 2, 1,\n",
              "       0, 0, 2, 0, 0, 1, 1, 0, 2, 1, 0, 2, 2, 1, 0, 2, 1, 1, 2, 0, 2, 0,\n",
              "       0])"
            ]
          },
          "metadata": {},
          "execution_count": 18
        }
      ],
      "source": [
        "clf.predict(X_test)"
      ],
      "id": "Yg20yr9FWCTW"
    },
    {
      "cell_type": "markdown",
      "metadata": {
        "id": "47eHO7XYWCTX"
      },
      "source": [
        "The test score can be calculated this way:"
      ],
      "id": "47eHO7XYWCTX"
    },
    {
      "cell_type": "code",
      "execution_count": 19,
      "metadata": {
        "hide-output": false,
        "id": "fZXH6s8xWCTX",
        "colab": {
          "base_uri": "https://localhost:8080/"
        },
        "outputId": "1c712462-dd06-4d9f-aad2-ccca8a85ad2e"
      },
      "outputs": [
        {
          "output_type": "execute_result",
          "data": {
            "text/plain": [
              "0.9777777777777777"
            ]
          },
          "metadata": {},
          "execution_count": 19
        }
      ],
      "source": [
        "clf.score(X_test, y_test)"
      ],
      "id": "fZXH6s8xWCTX"
    },
    {
      "cell_type": "markdown",
      "metadata": {
        "id": "TpoivZTMWCTY"
      },
      "source": [
        "## Question 3:\n",
        "\n",
        "Change the `max_depth` and `min_samples_leaf` parameter values. What do you notice?"
      ],
      "id": "TpoivZTMWCTY"
    },
    {
      "cell_type": "code",
      "source": [
        "# repeat same as above but changed params\n",
        "\n",
        "clf = tree.DecisionTreeClassifier(max_depth=4, min_samples_leaf=15)\n",
        "clf.fit(X_train, y_train)\n",
        "tree.plot_tree(clf, filled=True)\n",
        "clf.predict(X_test)\n",
        "clf.score(X_test, y_test)"
      ],
      "metadata": {
        "colab": {
          "base_uri": "https://localhost:8080/",
          "height": 423
        },
        "id": "lo_cKEcNeYI2",
        "outputId": "ba5ceea7-3de9-454a-d7c9-22f4f3c12d79"
      },
      "id": "lo_cKEcNeYI2",
      "execution_count": 35,
      "outputs": [
        {
          "output_type": "execute_result",
          "data": {
            "text/plain": [
              "0.9111111111111111"
            ]
          },
          "metadata": {},
          "execution_count": 35
        },
        {
          "output_type": "display_data",
          "data": {
            "text/plain": [
              "<Figure size 640x480 with 1 Axes>"
            ],
            "image/png": "[encoded data removed]"
          },
          "metadata": {}
        }
      ]
    },
    {
      "cell_type": "markdown",
      "source": [
        "The GINI index values for the leaf nodes change when the number of samples increases. Specifically, with a larger sample size, the GINI index decreases, indicating a higher degree of equality. However, the score decreases, indicating less accurate predictions."
      ],
      "metadata": {
        "id": "r0w3-esvfCGV"
      },
      "id": "r0w3-esvfCGV"
    },
    {
      "cell_type": "markdown",
      "metadata": {
        "id": "7EONnWX2WCTZ"
      },
      "source": [
        "## Question 4:\n",
        "\n",
        "The problem here being particularly simple, redo a training/test division with 5% of the data in training and 95% test.\n",
        "Calculate the rate of misclassified items on the test set.\n",
        "Vary (or better, perform a grid search with `GridSearchCV`) the values of the `max_depth` and `min_samples_leaf` parameters to measure their impact on this score."
      ],
      "id": "7EONnWX2WCTZ"
    },
    {
      "cell_type": "code",
      "source": [
        "from sklearn.model_selection import train_test_split\n",
        "from sklearn.metrics import accuracy_score\n",
        "X_train, X_test, y_train, y_test = train_test_split(X, y, train_size=0.05, random_state=0)\n",
        "clf = tree.DecisionTreeClassifier(max_depth=2, min_samples_leaf = 1)\n",
        "clf.fit(X_train, y_train)\n",
        "tree.plot_tree(clf, filled=True)\n",
        "\n",
        "predicted_labels = clf.predict(X_test)\n",
        "accuracy = accuracy_score(y_test, predicted_labels)\n",
        "misclassifications = 1 - accuracy\n",
        "print(\"Misclassification rate: \", misclassifications)\n",
        "print(\"Score: \", clf.score(X_test, y_test))\n",
        "print(\"\")"
      ],
      "metadata": {
        "colab": {
          "base_uri": "https://localhost:8080/",
          "height": 458
        },
        "id": "9wqt2RJSgaLY",
        "outputId": "5dee549b-5d6a-454a-e754-d0d9831114f5"
      },
      "id": "9wqt2RJSgaLY",
      "execution_count": 60,
      "outputs": [
        {
          "output_type": "stream",
          "name": "stdout",
          "text": [
            "Misclassification rate:  0.04895104895104896\n",
            "Score:  0.951048951048951\n",
            "\n"
          ]
        },
        {
          "output_type": "display_data",
          "data": {
            "text/plain": [
              "<Figure size 640x480 with 1 Axes>"
            ],
            "image/png": "[encoded data removed]"
          },
          "metadata": {}
        }
      ]
    },
    {
      "cell_type": "markdown",
      "source": [
        "The rate of misclassified items is proportional to the min_samples_leaf."
      ],
      "metadata": {
        "id": "BcKgQ0vqjOXO"
      },
      "id": "BcKgQ0vqjOXO"
    },
    {
      "cell_type": "markdown",
      "metadata": {
        "id": "RaXuI_XHWCTb"
      },
      "source": [
        "###   Display of the decision surface\n",
        "\n",
        "For a pair of attributes, i.e., for two-dimensional observations, we can visualize the decision surface in 2 dimensions. First, we discretize the two-dimensional domain with a constant step and then we evaluate the model on each point of the grid.\n",
        "\n",
        "\n",
        "In this example, we only keep the length and width of the petals."
      ],
      "id": "RaXuI_XHWCTb"
    },
    {
      "cell_type": "code",
      "execution_count": 61,
      "metadata": {
        "hide-output": false,
        "id": "pC1MLwmMWCTc",
        "colab": {
          "base_uri": "https://localhost:8080/",
          "height": 532
        },
        "outputId": "54809726-5407-4c8e-a163-f1ed87317d78"
      },
      "outputs": [
        {
          "output_type": "stream",
          "name": "stderr",
          "text": [
            "<ipython-input-61-0f376a9ad563>:33: UserWarning: No data for colormapping provided via 'c'. Parameters 'cmap' will be ignored\n",
            "  plt.scatter(X[idx, 0], X[idx, 1], c=color, label=iris.target_names[i], cmap=plt.cm.Paired)\n"
          ]
        },
        {
          "output_type": "display_data",
          "data": {
            "text/plain": [
              "<Figure size 640x480 with 1 Axes>"
            ],
            "image/png": "[encoded data removed]"
          },
          "metadata": {}
        }
      ],
      "source": [
        "import numpy as np\n",
        "import matplotlib.pyplot as plt\n",
        "\n",
        "# Settings\n",
        "n_classes = 3\n",
        "plot_colors = \"bry\" # blue-red-yellow\n",
        "plot_step = 0.02\n",
        "\n",
        "# Choose the length and width attributes of the petals\n",
        "pair = [2, 3]\n",
        "\n",
        "# We only keep the two attributes\n",
        "X = iris.data[:, pair]\n",
        "y = iris.target\n",
        "\n",
        "# Tree learning\n",
        "clf = tree.DecisionTreeClassifier().fit(X, y)\n",
        "\n",
        "# Display of the decision surface\n",
        "x_min, x_max = X[:, 0].min() - 1, X[:, 0].max() + 1\n",
        "y_min, y_max = X[:, 1].min() - 1, X[:, 1].max() + 1\n",
        "xx, yy = np.meshgrid(np.arange(x_min, x_max, plot_step), np.arange(y_min, y_max, plot_step))\n",
        "Z = clf.predict(np.c_[xx.ravel(), yy.ravel()])\n",
        "Z = Z.reshape(xx.shape)\n",
        "cs = plt.contourf(xx, yy, Z, cmap=plt.cm.Paired)\n",
        "plt.xlabel(iris.feature_names[pair[0]])\n",
        "plt.ylabel(iris.feature_names[pair[1]])\n",
        "plt.axis(\"tight\")\n",
        "\n",
        "# Display of learning points\n",
        "for i, color in zip(range(n_classes), plot_colors):\n",
        "    idx = np.where(y == i)\n",
        "    plt.scatter(X[idx, 0], X[idx, 1], c=color, label=iris.target_names[i], cmap=plt.cm.Paired)\n",
        "plt.axis(\"tight\")\n",
        "plt.suptitle(\"Decision surface of a decision tree using paired features\")\n",
        "plt.legend()\n",
        "plt.show()"
      ],
      "id": "pC1MLwmMWCTc"
    },
    {
      "cell_type": "markdown",
      "metadata": {
        "id": "z091a8hwWCTd"
      },
      "source": [
        "### Question 5:\n",
        "\n",
        "Redo the display for the other pairs of attributes. On which pair is the separation between the classes the most marked?"
      ],
      "id": "z091a8hwWCTd"
    },
    {
      "cell_type": "markdown",
      "metadata": {
        "id": "jL24bxngWCTe"
      },
      "source": [
        "## \tDecision trees for regression\n",
        "\n",
        "For regression with decision trees, scikit-learn offers the `DecisionTreeRegressor` class. As for the classification, the  `fit(...)` takes as input the parameter `X` (attributes of the observations). Warning: the `y` are not class labels but real values."
      ],
      "id": "jL24bxngWCTe"
    },
    {
      "cell_type": "code",
      "execution_count": null,
      "metadata": {
        "hide-output": false,
        "id": "aS7DWzP5WCTf"
      },
      "outputs": [],
      "source": [
        "from sklearn import tree\n",
        "\n",
        "X = [[0, 0], [2, 2]]\n",
        "y = [0.5, 2.5]\n",
        "clf = tree.DecisionTreeRegressor()\n",
        "clf = clf.fit(X, y)\n",
        "clf.predict([[1, 1]])"
      ],
      "id": "aS7DWzP5WCTf"
    },
    {
      "cell_type": "markdown",
      "metadata": {
        "id": "CSF-dzc3WCTg"
      },
      "source": [
        "In the following example, we will construct a sinusoidal signal affected by white noise and we will train a regression tree on this training data."
      ],
      "id": "CSF-dzc3WCTg"
    },
    {
      "cell_type": "code",
      "execution_count": null,
      "metadata": {
        "hide-output": false,
        "id": "zsQvv1OtWCTg"
      },
      "outputs": [],
      "source": [
        "import numpy as np\n",
        "import matplotlib.pyplot as plt\n",
        "\n",
        "from sklearn.tree import DecisionTreeRegressor\n",
        "\n",
        "# Create the training data\n",
        "np.random.seed(0)\n",
        "X = np.sort(5 * np.random.rand(80, 1), axis=0)\n",
        "y = np.sin(X).ravel()\n",
        "\n",
        "fig = plt.figure(figsize=(12, 4))\n",
        "fig.add_subplot(121)\n",
        "plt.plot(X, y)\n",
        "plt.title(\"Pure sine wave\")\n",
        "\n",
        "# We add a random noise every 5 samples\n",
        "y[::5] += 3 * (0.5 - np.random.rand(16))\n",
        "fig.add_subplot(122)\n",
        "plt.plot(X, y)\n",
        "plt.title(\"Noisy sine wave\")"
      ],
      "id": "zsQvv1OtWCTg"
    },
    {
      "cell_type": "markdown",
      "metadata": {
        "id": "DQ2hMLPmWCTg"
      },
      "source": [
        "The objective is to regress this signal `y` from the values of `x`. For this, we use a regression tree."
      ],
      "id": "DQ2hMLPmWCTg"
    },
    {
      "cell_type": "code",
      "execution_count": null,
      "metadata": {
        "hide-output": false,
        "id": "fY3WRY4BWCTh"
      },
      "outputs": [],
      "source": [
        "# Learn the model\n",
        "reg = DecisionTreeRegressor(max_depth=2)\n",
        "reg.fit(X, y)\n",
        "\n",
        "# Prediction on the same range of values\n",
        "X_test = np.arange(0.0, 5.0, 0.01)[:, np.newaxis]\n",
        "y_pred = reg.predict(X_test)\n",
        "\n",
        "# Display of results\n",
        "plt.figure()\n",
        "plt.scatter(X, y, c=\"darkorange\", label=\"Training Examples\")\n",
        "plt.plot(X_test, y_pred, color=\"cornflowerblue\", label=\"Prediction\", linewidth=2)\n",
        "plt.xlabel(\"x\")\n",
        "plt.ylabel(\"y\")\n",
        "plt.title(\"Decision Tree Regression\")\n",
        "plt.legend()\n",
        "plt.show()"
      ],
      "id": "fY3WRY4BWCTh"
    },
    {
      "cell_type": "markdown",
      "metadata": {
        "id": "lWwTaiadWCTh"
      },
      "source": [
        "## Question 6:\n",
        "\n",
        "Change the value of the `max_depth` parameter. What happens if we take too large a value? Too small? Change the rate of elements affected by noise (the `y[::5]`). When all elements are affected by noise, should a high or low value for `max_depth` be preferred?"
      ],
      "id": "lWwTaiadWCTh"
    },
    {
      "cell_type": "markdown",
      "metadata": {
        "id": "iFezHZOZWCTi"
      },
      "source": [
        "## Question 7:\n",
        "\n",
        "To deepen, load the Diabetes dataset from the `sklearn.datasets` module and make a random partition into learning part and test part (70% learning, 30% testing). Build a regression tree model on this basis. Calculate the root mean square error on the test set. Do a grid search to find the `max_depth` parameter value that minimizes this error."
      ],
      "id": "iFezHZOZWCTi"
    }
  ],
  "metadata": {
    "date": 1663157799.3671956,
    "filename": "tpArbresDecision.rst",
    "kernelspec": {
      "display_name": "Python 3",
      "language": "python",
      "name": "python3"
    },
    "language_info": {
      "codemirror_mode": {
        "name": "ipython",
        "version": 3
      },
      "file_extension": ".py",
      "mimetype": "text/x-python",
      "name": "python",
      "nbconvert_exporter": "python",
      "pygments_lexer": "ipython3",
      "version": "3.7.4"
    },
    "title": "Travaux pratiques - Arbres de décision",
    "colab": {
      "provenance": [],
      "include_colab_link": true
    }
  },
  "nbformat": 4,
  "nbformat_minor": 5
}